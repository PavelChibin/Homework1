{
 "cells": [
  {
   "cell_type": "markdown",
   "id": "13d942c8",
   "metadata": {},
   "source": [
    "#### 1. Посмотреть документацию к API GitHub, разобраться как вывести список репозиториев для конкретного пользователя, сохранить JSON-вывод в файле *.json."
   ]
  },
  {
   "cell_type": "code",
   "execution_count": null,
   "id": "d838f5a5",
   "metadata": {},
   "outputs": [],
   "source": [
    "import requests"
   ]
  },
  {
   "cell_type": "code",
   "execution_count": null,
   "id": "f6af2b1a",
   "metadata": {},
   "outputs": [],
   "source": [
    "import json"
   ]
  },
  {
   "cell_type": "code",
   "execution_count": null,
   "id": "0b08d9fa",
   "metadata": {},
   "outputs": [],
   "source": [
    "url = 'https://api.github.com'"
   ]
  },
  {
   "cell_type": "code",
   "execution_count": null,
   "id": "bfd0f3ed",
   "metadata": {},
   "outputs": [],
   "source": [
    "user = 'PavelChibin' "
   ]
  },
  {
   "cell_type": "code",
   "execution_count": null,
   "id": "7562fa63",
   "metadata": {},
   "outputs": [],
   "source": [
    "r = requests.get(f'{url}/users/{user}/repos') "
   ]
  },
  {
   "cell_type": "code",
   "execution_count": null,
   "id": "18aab5ac",
   "metadata": {},
   "outputs": [],
   "source": [
    "with open('data.json', 'w') as f:\n",
    "    json.dump(r.json(), f)"
   ]
  },
  {
   "cell_type": "code",
   "execution_count": null,
   "id": "89b9a4e3",
   "metadata": {},
   "outputs": [],
   "source": [
    "for i in r.json():\n",
    "    print(i['name'])"
   ]
  },
  {
   "cell_type": "markdown",
   "id": "fcffc71d",
   "metadata": {},
   "source": [
    "#### 2. Изучить список открытых API (https://www.programmableweb.com/category/all/apis). Найти среди них любое, требующее авторизацию (любого типа). Выполнить запросы к нему, пройдя авторизацию. Ответ сервера записать в файл."
   ]
  },
  {
   "cell_type": "code",
   "execution_count": null,
   "id": "0be36199",
   "metadata": {},
   "outputs": [],
   "source": [
    "app_id = 394959218"
   ]
  },
  {
   "cell_type": "code",
   "execution_count": null,
   "id": "471dd7fc",
   "metadata": {},
   "outputs": [],
   "source": [
    "vk_version = '5.124'"
   ]
  },
  {
   "cell_type": "code",
   "execution_count": null,
   "id": "3c389b0f",
   "metadata": {},
   "outputs": [],
   "source": [
    "auth_url = f'https://oauth.vk.com/authorize?client_id={app_id}&display=page&redirect_uri=https://oauth.vk.com/blank.html&scope=friends&response_type=token&v={vk_version}';"
   ]
  },
  {
   "cell_type": "code",
   "execution_count": null,
   "id": "60bee249",
   "metadata": {},
   "outputs": [],
   "source": [
    "print(f'Перейдите по ссылке:\\n{auth_url}\\nи получите токен доступа.')\n",
    "access_token = input('\\nВведите токен доступа: ')"
   ]
  },
  {
   "cell_type": "code",
   "execution_count": null,
   "id": "13046ac6",
   "metadata": {},
   "outputs": [],
   "source": [
    "response = requests.get(f'https://api.vk.com/method/groups.get?extended=1&access_token={access_token}&v={vk_version}')\n",
    "response_json = response.json()\n",
    "with open('task02_response.json', 'w') as file:\n",
    "    json.dump(response_json, file)"
   ]
  },
  {
   "cell_type": "code",
   "execution_count": null,
   "id": "446b8b17",
   "metadata": {},
   "outputs": [],
   "source": [
    "print('\\nСписок сообществ, на которые вы подписаны')\n",
    "for group in response_json['response']['items']:\n",
    "    print(f\"{group['name']}\")"
   ]
  },
  {
   "cell_type": "code",
   "execution_count": null,
   "id": "cdab7fa8",
   "metadata": {},
   "outputs": [],
   "source": []
  },
  {
   "cell_type": "code",
   "execution_count": null,
   "id": "29fefa0e",
   "metadata": {},
   "outputs": [],
   "source": []
  }
 ],
 "metadata": {
  "kernelspec": {
   "display_name": "Python 3 (ipykernel)",
   "language": "python",
   "name": "python3"
  },
  "language_info": {
   "codemirror_mode": {
    "name": "ipython",
    "version": 3
   },
   "file_extension": ".py",
   "mimetype": "text/x-python",
   "name": "python",
   "nbconvert_exporter": "python",
   "pygments_lexer": "ipython3",
   "version": "3.9.12"
  }
 },
 "nbformat": 4,
 "nbformat_minor": 5
}
